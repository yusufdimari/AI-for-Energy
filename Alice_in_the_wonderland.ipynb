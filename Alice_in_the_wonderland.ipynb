{
  "nbformat": 4,
  "nbformat_minor": 0,
  "metadata": {
    "colab": {
      "provenance": [],
      "authorship_tag": "ABX9TyNULYrqJQ4KbPm0Pz/EmJ1V",
      "include_colab_link": true
    },
    "kernelspec": {
      "name": "python3",
      "display_name": "Python 3"
    },
    "language_info": {
      "name": "python"
    }
  },
  "cells": [
    {
      "cell_type": "markdown",
      "metadata": {
        "id": "view-in-github",
        "colab_type": "text"
      },
      "source": [
        "<a href=\"https://colab.research.google.com/github/yusufdimari/AI-for-Energy/blob/main/Alice_in_the_wonderland.ipynb\" target=\"_parent\"><img src=\"https://colab.research.google.com/assets/colab-badge.svg\" alt=\"Open In Colab\"/></a>"
      ]
    },
    {
      "cell_type": "code",
      "execution_count": 1,
      "metadata": {
        "id": "mgGbNxTwTPH3"
      },
      "outputs": [],
      "source": [
        "import numpy as np\n",
        "import pandas as pd\n",
        "\n",
        "from keras.layers import SimpleRNN\n",
        "from keras.models import Sequential"
      ]
    },
    {
      "cell_type": "code",
      "source": [
        "corpus=open('/content/alice_in_wonderland.txt', 'rb')"
      ],
      "metadata": {
        "id": "s9Z1VXTCT8HC"
      },
      "execution_count": 12,
      "outputs": []
    },
    {
      "cell_type": "code",
      "source": [
        "documents=[]\n",
        "for line in corpus:\n",
        "  line=line.strip().lower()\n",
        "  line=line.decode('ascii', 'ignore')\n",
        "  #If we find an empty line skip\n",
        "  if len(line)==0:\n",
        "    continue\n",
        "  documents.append(line)"
      ],
      "metadata": {
        "id": "HH3kl1oPUtbX"
      },
      "execution_count": 13,
      "outputs": []
    },
    {
      "cell_type": "code",
      "source": [
        "print(documents[0])"
      ],
      "metadata": {
        "colab": {
          "base_uri": "https://localhost:8080/"
        },
        "id": "zjKKHd7YXqZT",
        "outputId": "dae6828b-8d26-455b-c5e7-2029ee4b76c3"
      },
      "execution_count": 14,
      "outputs": [
        {
          "output_type": "stream",
          "name": "stdout",
          "text": [
            "alice's adventures in wonderland\n"
          ]
        }
      ]
    },
    {
      "cell_type": "code",
      "source": [
        "#create a set that stores the characters\n",
        "chars=set([c for c in documents])\n",
        "nb_chars=len(chars)\n",
        "print('Total number of characters:', nb_chars)"
      ],
      "metadata": {
        "colab": {
          "base_uri": "https://localhost:8080/"
        },
        "id": "cJ6YwUK9XwAu",
        "outputId": "e20a6eb4-329a-4e4f-99ae-1c1aba1b50be"
      },
      "execution_count": 16,
      "outputs": [
        {
          "output_type": "stream",
          "name": "stdout",
          "text": [
            "Total number of characters: 2697\n"
          ]
        }
      ]
    },
    {
      "cell_type": "code",
      "source": [
        "print(list(chars)[2])"
      ],
      "metadata": {
        "colab": {
          "base_uri": "https://localhost:8080/"
        },
        "id": "dWW3-NDfYOHl",
        "outputId": "2398fee8-24f4-4e7a-eaf7-db7fd000482b"
      },
      "execution_count": 23,
      "outputs": [
        {
          "output_type": "stream",
          "name": "stdout",
          "text": [
            "only things in the kitchen that did not sneeze, were the cook,\n"
          ]
        }
      ]
    },
    {
      "cell_type": "code",
      "source": [
        "char2index=dict((c, i) for i, c in enumerate(chars))\n",
        "index2char=dict((i, c) for i, c in enumerate(chars))"
      ],
      "metadata": {
        "id": "9yq4eguUYAbw"
      },
      "execution_count": 24,
      "outputs": []
    }
  ]
}